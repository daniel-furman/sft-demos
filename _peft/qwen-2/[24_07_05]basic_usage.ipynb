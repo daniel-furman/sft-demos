{
 "cells": [
  {
   "cell_type": "code",
   "execution_count": null,
   "id": "25a01f22-aa88-4fb1-9ecd-165f08456707",
   "metadata": {},
   "outputs": [],
   "source": [
    "#!pip install -qU transformers accelerate bitsandbytes\n",
    "#!huggingface-cli download dfurman/Qwen2-72B-Orpo-v0.1"
   ]
  },
  {
   "cell_type": "code",
   "execution_count": null,
   "id": "1104df22-538b-4b49-8384-2507fa170eca",
   "metadata": {},
   "outputs": [],
   "source": [
    "from transformers import AutoTokenizer, BitsAndBytesConfig\n",
    "import transformers\n",
    "import torch\n",
    "\n",
    "if torch.cuda.get_device_capability()[0] >= 8:\n",
    "    !pip install -qqq flash-attn\n",
    "    attn_implementation = \"flash_attention_2\"\n",
    "    torch_dtype = torch.bfloat16\n",
    "else:\n",
    "    attn_implementation = \"eager\"\n",
    "    torch_dtype = torch.float16"
   ]
  },
  {
   "cell_type": "code",
   "execution_count": null,
   "id": "b128763a-75d5-4f91-9c00-0a287a093451",
   "metadata": {},
   "outputs": [],
   "source": [
    "bnb_config = BitsAndBytesConfig(\n",
    "    load_in_4bit=True,\n",
    "    bnb_4bit_quant_type=\"nf4\",\n",
    "    bnb_4bit_compute_dtype=torch_dtype,\n",
    "    bnb_4bit_use_double_quant=True,\n",
    ")\n",
    "\n",
    "model = \"dfurman/Llama-3-70B-Orpo-v0.1\"\n",
    "\n",
    "tokenizer = AutoTokenizer.from_pretrained(model)\n",
    "pipeline = transformers.pipeline(\n",
    "    \"text-generation\",\n",
    "    model=model,\n",
    "    model_kwargs={\n",
    "        \"torch_dtype\": torch_dtype,\n",
    "        # \"quantization_config\": bnb_config,\n",
    "        \"device_map\": \"auto\",\n",
    "        \"attn_implementation\": attn_implementation,\n",
    "    },\n",
    ")"
   ]
  },
  {
   "cell_type": "code",
   "execution_count": null,
   "id": "03f494f1-f668-41bf-be76-2b349c2fc477",
   "metadata": {},
   "outputs": [],
   "source": [
    "messages = [\n",
    "    {\"role\": \"system\", \"content\": \"You are a helpful assistant.\"},\n",
    "    {\"role\": \"user\", \"content\": \"Tell me a recipe for a spicy margarita.\"},\n",
    "]\n",
    "prompt = tokenizer.apply_chat_template(\n",
    "    messages, tokenize=False, add_generation_prompt=True\n",
    ")\n",
    "print(\"***Prompt:\\n\", prompt)\n",
    "\n",
    "outputs = pipeline(\n",
    "    prompt, max_new_tokens=1000, do_sample=True, temperature=0.7, top_k=50, top_p=0.95\n",
    ")\n",
    "print(\"***Generation:\\n\", outputs[0][\"generated_text\"][len(prompt) :])"
   ]
  }
 ],
 "metadata": {
  "kernelspec": {
   "display_name": "Python 3 (ipykernel)",
   "language": "python",
   "name": "python3"
  },
  "language_info": {
   "codemirror_mode": {
    "name": "ipython",
    "version": 3
   },
   "file_extension": ".py",
   "mimetype": "text/x-python",
   "name": "python",
   "nbconvert_exporter": "python",
   "pygments_lexer": "ipython3",
   "version": "3.10.12"
  }
 },
 "nbformat": 4,
 "nbformat_minor": 5
}
