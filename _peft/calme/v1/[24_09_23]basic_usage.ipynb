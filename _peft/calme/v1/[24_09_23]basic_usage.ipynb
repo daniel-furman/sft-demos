{
 "cells": [
  {
   "cell_type": "code",
   "execution_count": 1,
   "id": "1104df22-538b-4b49-8384-2507fa170eca",
   "metadata": {},
   "outputs": [],
   "source": [
    "from transformers import AutoTokenizer, BitsAndBytesConfig\n",
    "import transformers\n",
    "import torch\n",
    "\n",
    "if torch.cuda.get_device_capability()[0] >= 8:\n",
    "    !pip install -qqq flash-attn\n",
    "    attn_implementation = \"flash_attention_2\"\n",
    "    torch_dtype = torch.bfloat16\n",
    "else:\n",
    "    attn_implementation = \"eager\"\n",
    "    torch_dtype = torch.float16"
   ]
  },
  {
   "cell_type": "code",
   "execution_count": 2,
   "id": "b128763a-75d5-4f91-9c00-0a287a093451",
   "metadata": {},
   "outputs": [
    {
     "data": {
      "application/vnd.jupyter.widget-view+json": {
       "model_id": "1d30556608a44dd6b55d3488de7417ce",
       "version_major": 2,
       "version_minor": 0
      },
      "text/plain": [
       "Downloading shards:   0%|          | 0/33 [00:00<?, ?it/s]"
      ]
     },
     "metadata": {},
     "output_type": "display_data"
    },
    {
     "data": {
      "application/vnd.jupyter.widget-view+json": {
       "model_id": "bb416bf8abb147a7a5b5998833e01f39",
       "version_major": 2,
       "version_minor": 0
      },
      "text/plain": [
       "Loading checkpoint shards:   0%|          | 0/33 [00:00<?, ?it/s]"
      ]
     },
     "metadata": {},
     "output_type": "display_data"
    }
   ],
   "source": [
    "bnb_config = BitsAndBytesConfig(\n",
    "    load_in_4bit=True,\n",
    "    bnb_4bit_quant_type=\"nf4\",\n",
    "    bnb_4bit_compute_dtype=torch_dtype,\n",
    "    bnb_4bit_use_double_quant=True,\n",
    ")\n",
    "\n",
    "model = \"dfurman/CalmeRys-78B-Orpo-v0.1\"\n",
    "\n",
    "tokenizer = AutoTokenizer.from_pretrained(model)\n",
    "pipeline = transformers.pipeline(\n",
    "    \"text-generation\",\n",
    "    model=model,\n",
    "    model_kwargs={\n",
    "        \"torch_dtype\": torch_dtype,\n",
    "        # \"quantization_config\": bnb_config,\n",
    "        \"device_map\": \"auto\",\n",
    "        \"attn_implementation\": attn_implementation,\n",
    "    },\n",
    ")"
   ]
  },
  {
   "cell_type": "code",
   "execution_count": 5,
   "id": "03f494f1-f668-41bf-be76-2b349c2fc477",
   "metadata": {},
   "outputs": [
    {
     "name": "stdout",
     "output_type": "stream",
     "text": [
      "***Generation:\n",
      "To make a Spicy Margarita, you'll need to incorporate a chili or pepper element into your classic margarita recipe. Here’s a simple way to do it:\n",
      "\n",
      "### Ingredients:\n",
      "- 2 oz tequila (blanco or reposado)\n",
      "- 1 oz fresh lime juice\n",
      "- 1/2 oz triple sec (Cointreau or Grand Marnier)\n",
      "- 1/2 oz agave syrup or simple syrup\n",
      "- 1-2 slices of jalapeño (or more depending on how spicy you like it)\n",
      "- Salt and/or chili powder for rimming the glass\n",
      "- Ice\n",
      "- Lime wheel for garnish\n",
      "\n",
      "### Instructions:\n",
      "1. **Muddle Jalapeño**: In a shaker, muddle the jalapeño slices slightly. This will release the oils and heat from the peppers.\n",
      "2. **Add Remaining Ingredients**: Add the tequila, lime juice, triple sec, and agave syrup or simple syrup. \n",
      "3. **Shake and Strain**: Fill the shaker with ice and shake vigorously until cold. Strain into a salt and/or chili powder rimmed glass filled with ice.\n",
      "4. **Garnish and Serve**: Garnish with a lime wheel and enjoy.\n",
      "\n",
      "If you prefer a smoother spiciness that doesn't overpower the drink, you could also consider making a jalapeño-infused tequila by leaving the jalapeño slices in the bottle of tequila for several hours to a couple of days, adjusting the time based on desired level of spiciness. Then use this infused tequila instead of regular tequila in the recipe above. \n",
      "\n",
      "Another variation is to use a spicy syrup. To make this, combine equal parts water and sugar with a few sliced jalapeños in a saucepan. Bring to a boil, stirring occasionally to dissolve the sugar. Reduce heat and simmer for about 5 minutes. Let cool, strain out the jalapeños, then store in a sealed container in the refrigerator until ready to use. Use this spicy syrup instead of regular syrup in the recipe. \n",
      "\n",
      "As always, adjust the quantity of jalapeño or the type of chili used to suit your taste. Enjoy responsibly!\n"
     ]
    }
   ],
   "source": [
    "question = \"What's a good recipe for a spicy margarita?\"\n",
    "\n",
    "messages = [\n",
    "    {\"role\": \"system\", \"content\": \"You are a helpful assistant.\"},\n",
    "    {\"role\": \"user\", \"content\": question},\n",
    "]\n",
    "prompt = tokenizer.apply_chat_template(\n",
    "    messages, tokenize=False, add_generation_prompt=True\n",
    ")\n",
    "# print(\"***Prompt:\\n\", prompt)\n",
    "\n",
    "outputs = pipeline(\n",
    "    prompt, max_new_tokens=1000, do_sample=True, temperature=0.7, top_k=50, top_p=0.95\n",
    ")\n",
    "print(\"***Generation:\")\n",
    "print(outputs[0][\"generated_text\"][len(prompt) :])"
   ]
  },
  {
   "cell_type": "code",
   "execution_count": null,
   "id": "29a8df88-304e-4e89-8525-29dd4567f940",
   "metadata": {},
   "outputs": [],
   "source": []
  }
 ],
 "metadata": {
  "kernelspec": {
   "display_name": "Python 3 (ipykernel)",
   "language": "python",
   "name": "python3"
  },
  "language_info": {
   "codemirror_mode": {
    "name": "ipython",
    "version": 3
   },
   "file_extension": ".py",
   "mimetype": "text/x-python",
   "name": "python",
   "nbconvert_exporter": "python",
   "pygments_lexer": "ipython3",
   "version": "3.10.12"
  }
 },
 "nbformat": 4,
 "nbformat_minor": 5
}
