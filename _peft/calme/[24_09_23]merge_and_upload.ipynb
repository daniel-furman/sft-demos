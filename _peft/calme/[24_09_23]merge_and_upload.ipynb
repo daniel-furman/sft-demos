{
 "cells": [
  {
   "cell_type": "code",
   "execution_count": null,
   "id": "3cac9423-3b95-4cbe-a21e-e0698b58d986",
   "metadata": {},
   "outputs": [],
   "source": [
    "import gc\n",
    "import torch\n",
    "from peft import LoraConfig, PeftModel, prepare_model_for_kbit_training\n",
    "from transformers import (\n",
    "    AutoModelForCausalLM,\n",
    "    AutoTokenizer,\n",
    "    BitsAndBytesConfig,\n",
    "    TrainingArguments,\n",
    "    pipeline,\n",
    ")\n",
    "from trl import ORPOConfig, ORPOTrainer, setup_chat_format"
   ]
  },
  {
   "cell_type": "code",
   "execution_count": null,
   "id": "3b264907-3f1f-4069-a6a4-c111dd7941cf",
   "metadata": {},
   "outputs": [],
   "source": [
    "# Flush memory\n",
    "# del trainer, model\n",
    "gc.collect()\n",
    "torch.cuda.empty_cache()"
   ]
  },
  {
   "cell_type": "code",
   "execution_count": null,
   "id": "d5511c44-de65-45cb-ac73-2f1a66181922",
   "metadata": {},
   "outputs": [],
   "source": [
    "!nvidia-smi"
   ]
  },
  {
   "cell_type": "code",
   "execution_count": null,
   "id": "16ef4cdb-e9a4-49a5-977e-52ae8434c703",
   "metadata": {},
   "outputs": [],
   "source": [
    "base_model = \"MaziyarPanahi/calme-2.4-rys-78b\"\n",
    "new_model = \"dfurman/CalmeRys-78B-Orpo-v0.1\""
   ]
  },
  {
   "cell_type": "code",
   "execution_count": null,
   "id": "dd66d922-9df7-4594-8896-5b01a9b972e6",
   "metadata": {},
   "outputs": [],
   "source": [
    "# Reload tokenizer and model\n",
    "tokenizer = AutoTokenizer.from_pretrained(base_model)\n",
    "model = AutoModelForCausalLM.from_pretrained(\n",
    "    base_model,\n",
    "    low_cpu_mem_usage=True,\n",
    "    return_dict=True,\n",
    "    torch_dtype=torch.bfloat16,\n",
    "    device_map=\"auto\",\n",
    ")\n",
    "model, tokenizer = setup_chat_format(model, tokenizer)\n",
    "\n",
    "# Merge adapter with base model\n",
    "model = PeftModel.from_pretrained(model, new_model)\n",
    "model = model.merge_and_unload()\n",
    "\n",
    "model.push_to_hub(new_model, use_temp_dir=True)\n",
    "tokenizer.push_to_hub(new_model, use_temp_dir=True)"
   ]
  },
  {
   "cell_type": "code",
   "execution_count": null,
   "id": "16656db0-46ee-4f2e-b006-d7fa24413cfe",
   "metadata": {},
   "outputs": [],
   "source": []
  },
  {
   "cell_type": "code",
   "execution_count": null,
   "id": "83996865-60eb-4aa6-b6f1-4f403431c427",
   "metadata": {},
   "outputs": [],
   "source": []
  }
 ],
 "metadata": {
  "kernelspec": {
   "display_name": "Python 3 (ipykernel)",
   "language": "python",
   "name": "python3"
  },
  "language_info": {
   "codemirror_mode": {
    "name": "ipython",
    "version": 3
   },
   "file_extension": ".py",
   "mimetype": "text/x-python",
   "name": "python",
   "nbconvert_exporter": "python",
   "pygments_lexer": "ipython3",
   "version": "3.10.12"
  }
 },
 "nbformat": 4,
 "nbformat_minor": 5
}
