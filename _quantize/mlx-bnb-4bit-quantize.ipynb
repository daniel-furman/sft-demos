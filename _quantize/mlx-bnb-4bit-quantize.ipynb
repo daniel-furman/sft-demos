{
 "cells": [
  {
   "cell_type": "code",
   "execution_count": null,
   "id": "b2b68d27-a598-41ff-8441-e480ed29db9b",
   "metadata": {},
   "outputs": [],
   "source": [
    "!pip install -qU bitsandbytes transformers accelerate mlx-lm"
   ]
  },
  {
   "cell_type": "code",
   "execution_count": null,
   "id": "e42fdd4f-4f50-43bd-b361-befd53bcb973",
   "metadata": {},
   "outputs": [],
   "source": [
    "#!huggingface-cli download dfurman/CalmeRys-78B-Orpo-v0.1"
   ]
  },
  {
   "cell_type": "code",
   "execution_count": null,
   "id": "42fb07d8-36e2-4dd9-b013-28d1df3f3de4",
   "metadata": {},
   "outputs": [],
   "source": [
    "from transformers import AutoTokenizer, BitsAndBytesConfig\n",
    "import transformers\n",
    "import torch\n",
    "\n",
    "\n",
    "if torch.cuda.get_device_capability()[0] >= 8:\n",
    "    !pip install -qqq flash-attn\n",
    "    attn_implementation = \"flash_attention_2\"\n",
    "    torch_dtype = torch.bfloat16\n",
    "else:\n",
    "    attn_implementation = \"eager\"\n",
    "    torch_dtype = torch.float16\n",
    "\n",
    "# # quantize if necessary\n",
    "# bnb_config = BitsAndBytesConfig(\n",
    "#    load_in_4bit=True,\n",
    "#    bnb_4bit_quant_type=\"nf4\",\n",
    "#    bnb_4bit_compute_dtype=torch_dtype,\n",
    "#    bnb_4bit_use_double_quant=True,\n",
    "# )\n",
    "\n",
    "model = \"dfurman/CalmeRys-78B-Orpo-v0.1\"\n",
    "\n",
    "tokenizer = AutoTokenizer.from_pretrained(model)\n",
    "# pipeline = transformers.pipeline(\n",
    "#     \"text-generation\",\n",
    "#     model=model,\n",
    "#     model_kwargs={\n",
    "#         \"torch_dtype\": torch_dtype,\n",
    "#         \"quantization_config\": bnb_config,\n",
    "#         \"device_map\": \"auto\",\n",
    "#         \"attn_implementation\": attn_implementation,\n",
    "#     }\n",
    "# )\n"
   ]
  },
  {
   "cell_type": "code",
   "execution_count": null,
   "id": "fc5d33ff-eec7-4d8f-b060-a5d8dd1eb165",
   "metadata": {},
   "outputs": [],
   "source": [
    "!mlx_lm.convert \\\n",
    "    --hf-path \"dfurman/CalmeRys-78B-Orpo-v0.1\" \\\n",
    "    -q \\\n",
    "    --upload-repo mlx-community/CalmeRys-78B-Orpo-v0.1-4bit"
   ]
  },
  {
   "cell_type": "code",
   "execution_count": null,
   "id": "da3cac64-2832-45a6-8b0f-0b4f7af146ad",
   "metadata": {},
   "outputs": [],
   "source": [
    "tokenizer.push_to_hub(\"mlx-community/CalmeRys-78B-Orpo-v0.1-4bit\", use_temp_dir=True)"
   ]
  },
  {
   "cell_type": "code",
   "execution_count": null,
   "id": "a57fb93f-05a7-4c90-8262-5ca2e5575845",
   "metadata": {},
   "outputs": [],
   "source": []
  },
  {
   "cell_type": "code",
   "execution_count": null,
   "id": "583fc970-d20c-433c-8a68-dd1ac79d9447",
   "metadata": {},
   "outputs": [],
   "source": []
  }
 ],
 "metadata": {
  "kernelspec": {
   "display_name": "Python 3 (ipykernel)",
   "language": "python",
   "name": "python3"
  },
  "language_info": {
   "codemirror_mode": {
    "name": "ipython",
    "version": 3
   },
   "file_extension": ".py",
   "mimetype": "text/x-python",
   "name": "python",
   "nbconvert_exporter": "python",
   "pygments_lexer": "ipython3",
   "version": "3.10.12"
  }
 },
 "nbformat": 4,
 "nbformat_minor": 5
}
